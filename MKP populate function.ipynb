{
 "cells": [
  {
   "cell_type": "markdown",
   "metadata": {},
   "source": [
    "# Multidimensional Knapsack Problem"
   ]
  },
  {
   "cell_type": "markdown",
   "metadata": {},
   "source": [
    "Mohammed Alagha, June 2021\n",
    "\n",
    "Glasgow, UK"
   ]
  },
  {
   "cell_type": "markdown",
   "metadata": {},
   "source": [
    "A function to read MKP data and populate an instance."
   ]
  },
  {
   "cell_type": "code",
   "execution_count": null,
   "metadata": {},
   "outputs": [],
   "source": [
    "from typing import List, Set, Dict, Tuple, Optional\n",
    "import numpy as np\n",
   ]
  },
  {
   "cell_type": "code",
   "execution_count": 2,
   "metadata": {},
   "outputs": [
    {
     "ename": "NameError",
     "evalue": "name 'Tuple' is not defined",
     "output_type": "error",
     "traceback": [
      "\u001b[0;31m---------------------------------------------------------------------------\u001b[0m",
      "\u001b[0;31mNameError\u001b[0m                                 Traceback (most recent call last)",
      "\u001b[0;32m<ipython-input-2-da91baa9a468>\u001b[0m in \u001b[0;36m<module>\u001b[0;34m\u001b[0m\n\u001b[0;32m----> 1\u001b[0;31m \u001b[0;32mdef\u001b[0m \u001b[0mMKPpopulate\u001b[0m\u001b[0;34m(\u001b[0m\u001b[0mname\u001b[0m\u001b[0;34m)\u001b[0m \u001b[0;34m->\u001b[0m \u001b[0mTuple\u001b[0m\u001b[0;34m(\u001b[0m\u001b[0mIterable\u001b[0m\u001b[0;34m[\u001b[0m\u001b[0mfloat\u001b[0m\u001b[0;34m]\u001b[0m\u001b[0;34m,\u001b[0m \u001b[0mIterable\u001b[0m\u001b[0;34m[\u001b[0m\u001b[0mfloat\u001b[0m\u001b[0;34m]\u001b[0m\u001b[0;34m,\u001b[0m \u001b[0mIterable\u001b[0m\u001b[0;34m[\u001b[0m\u001b[0mfloat\u001b[0m\u001b[0;34m]\u001b[0m\u001b[0;34m)\u001b[0m\u001b[0;34m:\u001b[0m\u001b[0;34m\u001b[0m\u001b[0;34m\u001b[0m\u001b[0m\n\u001b[0m\u001b[1;32m      2\u001b[0m     \u001b[0;31m# populateMKP\u001b[0m\u001b[0;34m\u001b[0m\u001b[0;34m\u001b[0m\u001b[0;34m\u001b[0m\u001b[0m\n\u001b[1;32m      3\u001b[0m \u001b[0;34m\u001b[0m\u001b[0m\n\u001b[1;32m      4\u001b[0m     '''\n\u001b[1;32m      5\u001b[0m     \u001b[0mThis\u001b[0m \u001b[0mfunction\u001b[0m \u001b[0mextracts\u001b[0m \u001b[0mthe\u001b[0m \u001b[0mraw\u001b[0m \u001b[0mdata\u001b[0m \u001b[0;32mfrom\u001b[0m \u001b[0ma\u001b[0m \u001b[0;34m.\u001b[0m\u001b[0mtxt\u001b[0m \u001b[0mfile\u001b[0m \u001b[0;32mand\u001b[0m \u001b[0mpopulates\u001b[0m \u001b[0mthe\u001b[0m \u001b[0mobjective\u001b[0m \u001b[0mfunction\u001b[0m \u001b[0mcoefficients\u001b[0m\u001b[0;34m\u001b[0m\u001b[0;34m\u001b[0m\u001b[0m\n",
      "\u001b[0;31mNameError\u001b[0m: name 'Tuple' is not defined"
     ]
    }
   ],
   "source": [
    "def MKPpopulate(name) -> Tuple(Iterable[float], Iterable[float], Iterable[float]):\n",
    "    # populateMKP\n",
    "\n",
    "    '''\n",
    "    This function extracts the raw data from a .txt file and populates the objective function coefficients\n",
    "    array, the constraints coefficients matrix A and the right hand side b array\n",
    "    \n",
    "    Arguments:\n",
    "        name -- the name of the .txt file that contains the raw data\n",
    "        \n",
    "    returns:\n",
    "        c -- objective function coefficients array (shape = 1 * n)\n",
    "        A -- constraints coefficients matrix A (shape = m * n)\n",
    "        b -- right hand side values (shape = 1 * m)\n",
    "    '''\n",
    "    \n",
    "    # Opening .txt file to read raw data of an instance\n",
    "    file = open(str(name), 'r')\n",
    "    x = []\n",
    "    for line in file:\n",
    "        splitLine = line.split()\n",
    "        for i in range(len(splitLine)):\n",
    "            x.append(splitLine[i])\n",
    "    file.close()\n",
    "    \n",
    "    \n",
    "    # Define parameters\n",
    "    NumColumns, NumRows, BestOF = int(x.pop(0)), int(x.pop(0)), float(x.pop(0))\n",
    "    print('This instance has %d variables and %d constraints' %(NumColumns, NumRows))\n",
    "\n",
    "    if BestOF != float(0):\n",
    "        print('Best known integer objective value for this instance = ', BestOF)\n",
    "    else:\n",
    "        print('Best integer objective value for this instance is not indicated')\n",
    "    \n",
    "    # Populating Objective Function Coefficients\n",
    "    c = np.array([float(x.pop(0)) for i in range(NumColumns)])\n",
    "    \n",
    "    assert type(c) == np.ndarray\n",
    "    assert len(c)  == NumColumns\n",
    "    \n",
    "    \n",
    "    # Populating A matrix (size NumRows * NumColumns)\n",
    "    ConstCoef = np.array([float(x.pop(0)) for i in range(int(NumRows * NumColumns))])    \n",
    "    \n",
    "    assert type(ConstCoef) == np.ndarray\n",
    "    assert len(ConstCoef)  == int(NumRows*NumColumns)\n",
    "    \n",
    "    A = np.reshape(ConstCoef, (NumRows, NumColumns)) # reshaping the 1-d ConstCoef into A\n",
    "    \n",
    "    assert A.shape == (NumRows, NumColumns)\n",
    "    \n",
    "    \n",
    "    # Populating the RHS\n",
    "    b = np.array([float(x.pop(0)) for i in range(int(NumRows))])\n",
    "\n",
    "    assert len(b) == NumRows\n",
    "    assert type(b) == np.ndarray\n",
    "    \n",
    "    return c, A, b"
   ]
  },
  {
   "cell_type": "code",
   "execution_count": null,
   "metadata": {},
   "outputs": [],
   "source": []
  }
 ],
 "metadata": {
  "kernelspec": {
   "display_name": "Python 3",
   "language": "python",
   "name": "python3"
  },
  "language_info": {
   "codemirror_mode": {
    "name": "ipython",
    "version": 3
   },
   "file_extension": ".py",
   "mimetype": "text/x-python",
   "name": "python",
   "nbconvert_exporter": "python",
   "pygments_lexer": "ipython3",
   "version": "3.7.6"
  }
 },
 "nbformat": 4,
 "nbformat_minor": 4
}
